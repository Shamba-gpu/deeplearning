{
 "cells": [
  {
   "cell_type": "code",
   "execution_count": 1,
   "metadata": {},
   "outputs": [],
   "source": [
    "# Yernar Shambayev, DL-2\n",
    "# Домашнее задание к лекции \"Многослойная нейронная сеть\"\n",
    "# Постройте модель для классификации FashionMNIST.\n",
    "# Попробуйте получить качество на тестовой выборке не ниже 88%\n",
    "\n",
    "import torch\n",
    "from torchvision import datasets, transforms\n",
    "from torch import nn, optim"
   ]
  },
  {
   "cell_type": "code",
   "execution_count": 2,
   "metadata": {},
   "outputs": [],
   "source": [
    "transform = transforms.Compose([transforms.ToTensor(),\n",
    "                                transforms.Normalize([0.], [0.5])])\n",
    "\n",
    "trainset = datasets.FashionMNIST('.', download = True, train = True, transform = transform)\n",
    "testset = datasets.FashionMNIST('.', download = True, train = False, transform = transform)\n",
    "trainloader = torch.utils.data.DataLoader(trainset, batch_size = 64, shuffle = True)\n",
    "testloader = torch.utils.data.DataLoader(testset, batch_size = 64, shuffle = True)"
   ]
  },
  {
   "cell_type": "code",
   "execution_count": 3,
   "metadata": {},
   "outputs": [
    {
     "name": "stdout",
     "output_type": "stream",
     "text": [
      "torch.Size([64, 1, 28, 28]) torch.Size([64])\n"
     ]
    }
   ],
   "source": [
    "dataiter = iter(trainloader)\n",
    "images, labels = dataiter.next()\n",
    "print(images.shape, labels.shape)"
   ]
  },
  {
   "cell_type": "code",
   "execution_count": 4,
   "metadata": {},
   "outputs": [],
   "source": [
    "model = nn.Sequential(nn.Linear(784, 256),\n",
    "                      nn.ReLU(),\n",
    "                      nn.Dropout(0.2),\n",
    "                      nn.Linear(256, 128),\n",
    "                      nn.ReLU(),\n",
    "                      nn.Dropout(0.2),\n",
    "                      nn.Linear(128, 64),\n",
    "                      nn.ReLU(),\n",
    "                      nn.Dropout(0.2),\n",
    "                      nn.Linear(64, 10),\n",
    "                      nn.LogSoftmax(dim = 1)\n",
    "                     )\n",
    "loss = nn.CrossEntropyLoss()\n",
    "optimizer = optim.Adam(model.parameters(), lr=0.002)\n",
    "epochs = 20"
   ]
  },
  {
   "cell_type": "code",
   "execution_count": 5,
   "metadata": {},
   "outputs": [
    {
     "name": "stdout",
     "output_type": "stream",
     "text": [
      "Эпоха: 1/20. Потери: 0.4417.     Точность: 0.8419\n",
      "Эпоха: 2/20. Потери: 0.4072.     Точность: 0.8524\n",
      "Эпоха: 3/20. Потери: 0.3990.     Точность: 0.8580\n",
      "Эпоха: 4/20. Потери: 0.3846.     Точность: 0.8624\n",
      "Эпоха: 5/20. Потери: 0.3875.     Точность: 0.8632\n",
      "Эпоха: 6/20. Потери: 0.3717.     Точность: 0.8665\n",
      "Эпоха: 7/20. Потери: 0.3640.     Точность: 0.8700\n",
      "Эпоха: 8/20. Потери: 0.3709.     Точность: 0.8673\n",
      "Эпоха: 9/20. Потери: 0.3601.     Точность: 0.8719\n",
      "Эпоха: 10/20. Потери: 0.3547.     Точность: 0.8740\n",
      "Эпоха: 11/20. Потери: 0.3667.     Точность: 0.8716\n",
      "Эпоха: 12/20. Потери: 0.3502.     Точность: 0.8765\n",
      "Эпоха: 13/20. Потери: 0.3390.     Точность: 0.8784\n",
      "Эпоха: 14/20. Потери: 0.3657.     Точность: 0.8660\n",
      "Эпоха: 15/20. Потери: 0.3525.     Точность: 0.8799\n",
      "Эпоха: 16/20. Потери: 0.3651.     Точность: 0.8752\n",
      "Эпоха: 17/20. Потери: 0.3626.     Точность: 0.8655\n",
      "Эпоха: 18/20. Потери: 0.3402.     Точность: 0.8825\n",
      "Эпоха: 19/20. Потери: 0.3681.     Точность: 0.8766\n",
      "Эпоха: 20/20. Потери: 0.3434.     Точность: 0.8813\n"
     ]
    }
   ],
   "source": [
    "for epoch in range(epochs):\n",
    "    model.train()\n",
    "    for fashion_images, fashion_labels in trainloader:\n",
    "        fashion_images = fashion_images.view(fashion_images.shape[0], -1)\n",
    "        optimizer.zero_grad()\n",
    "        output = model.forward(fashion_images)\n",
    "        l = loss(output, fashion_labels)\n",
    "        l.backward()\n",
    "        optimizer.step()\n",
    "\n",
    "    test_loss = 0\n",
    "    accuracy = 0\n",
    "    with torch.no_grad():\n",
    "        model.eval()\n",
    "\n",
    "        for fashion_images, fashion_labels in testloader:\n",
    "            fashion_images = fashion_images.view(fashion_images.shape[0], -1)\n",
    "            test_guess = model(fashion_images)\n",
    "            test_loss += loss(test_guess, fashion_labels)\n",
    "\n",
    "            prob = torch.exp(test_guess)\n",
    "            top_probs, top_classes = prob.topk(1, dim=1)\n",
    "            equals = fashion_labels == top_classes.view(fashion_labels.shape)\n",
    "            accuracy += torch.mean(equals.type(torch.FloatTensor))\n",
    "\n",
    "    print(f'Эпоха: {epoch + 1}/{epochs}. Потери: {test_loss / len(testloader):.4f}. \\\n",
    "    Точность: {accuracy / len(testloader):.4f}')"
   ]
  },
  {
   "cell_type": "code",
   "execution_count": null,
   "metadata": {},
   "outputs": [],
   "source": []
  }
 ],
 "metadata": {
  "kernelspec": {
   "display_name": "Python 3",
   "language": "python",
   "name": "python3"
  },
  "language_info": {
   "codemirror_mode": {
    "name": "ipython",
    "version": 3
   },
   "file_extension": ".py",
   "mimetype": "text/x-python",
   "name": "python",
   "nbconvert_exporter": "python",
   "pygments_lexer": "ipython3",
   "version": "3.7.4"
  }
 },
 "nbformat": 4,
 "nbformat_minor": 2
}
