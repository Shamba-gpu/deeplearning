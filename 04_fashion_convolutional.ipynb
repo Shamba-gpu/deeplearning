{
 "cells": [
  {
   "cell_type": "code",
   "execution_count": 1,
   "metadata": {},
   "outputs": [],
   "source": [
    "# Yernar Shambayev, DL-2\n",
    "# Используя сверточные слои и архитектуру получите на fashion mnist качество не ниже 89,5%\n",
    "\n",
    "import torch\n",
    "from torchvision import datasets, transforms\n",
    "from torch import nn, optim\n",
    "import torch.nn.functional as F"
   ]
  },
  {
   "cell_type": "code",
   "execution_count": 2,
   "metadata": {},
   "outputs": [],
   "source": [
    "transform = transforms.Compose([transforms.ToTensor(),\n",
    "                                transforms.Normalize([0.], [0.5])])\n",
    "\n",
    "trainset = datasets.FashionMNIST('.', download = True, train = True, transform = transform)\n",
    "testset = datasets.FashionMNIST('.', download = True, train = False, transform = transform)\n",
    "trainloader = torch.utils.data.DataLoader(trainset, batch_size = 64, shuffle = True)\n",
    "testloader = torch.utils.data.DataLoader(testset, batch_size = 64, shuffle = True)"
   ]
  },
  {
   "cell_type": "code",
   "execution_count": 3,
   "metadata": {},
   "outputs": [
    {
     "name": "stdout",
     "output_type": "stream",
     "text": [
      "torch.Size([64, 1, 28, 28]) torch.Size([64])\n"
     ]
    }
   ],
   "source": [
    "dataiter = iter(trainloader)\n",
    "images, labels = dataiter.next()\n",
    "print(images.shape, labels.shape)"
   ]
  },
  {
   "cell_type": "code",
   "execution_count": 4,
   "metadata": {},
   "outputs": [],
   "source": [
    "class convolutionalNet(nn.Module):\n",
    "    def __init__(self):\n",
    "        super(convolutionalNet, self).__init__()\n",
    "\n",
    "        self.conv1 = nn.Conv2d(in_channels=1, out_channels=6, kernel_size=5)\n",
    "        self.conv2 = nn.Conv2d(in_channels=6, out_channels=12, kernel_size=5)\n",
    "\n",
    "        self.fc1 = nn.Linear(in_features=12*4*4, out_features=120)\n",
    "        self.fc2 = nn.Linear(in_features=120, out_features=60)\n",
    "        self.out = nn.Linear(in_features=60, out_features=10)\n",
    "\n",
    "    def forward(self, t):\n",
    "        t = self.conv1(t)\n",
    "        t = F.relu(t)\n",
    "        t = F.max_pool2d(t, kernel_size=2, stride=2)\n",
    "\n",
    "        t = self.conv2(t)\n",
    "        t = F.relu(t)\n",
    "        t = F.max_pool2d(t, kernel_size=2, stride=2)\n",
    "\n",
    "        t = t.reshape(-1, 12 * 4 * 4)\n",
    "        t = self.fc1(t)\n",
    "        t = F.relu(t)\n",
    "\n",
    "        t = self.fc2(t)\n",
    "        t = F.relu(t)\n",
    "\n",
    "        t = self.out(t)\n",
    "        return t"
   ]
  },
  {
   "cell_type": "code",
   "execution_count": 5,
   "metadata": {},
   "outputs": [
    {
     "name": "stdout",
     "output_type": "stream",
     "text": [
      "cuda:0\n"
     ]
    },
    {
     "data": {
      "text/plain": [
       "convolutionalNet(\n",
       "  (conv1): Conv2d(1, 6, kernel_size=(5, 5), stride=(1, 1))\n",
       "  (conv2): Conv2d(6, 12, kernel_size=(5, 5), stride=(1, 1))\n",
       "  (fc1): Linear(in_features=192, out_features=120, bias=True)\n",
       "  (fc2): Linear(in_features=120, out_features=60, bias=True)\n",
       "  (out): Linear(in_features=60, out_features=10, bias=True)\n",
       ")"
      ]
     },
     "execution_count": 5,
     "metadata": {},
     "output_type": "execute_result"
    }
   ],
   "source": [
    "device = torch.device(\"cuda:0\" if torch.cuda.is_available() else \"cpu\")\n",
    "print(device)\n",
    "model = convolutionalNet()\n",
    "model.to(device)"
   ]
  },
  {
   "cell_type": "code",
   "execution_count": 6,
   "metadata": {},
   "outputs": [
    {
     "name": "stdout",
     "output_type": "stream",
     "text": [
      "Эпоха: 1/20. Потери: 0.4656.     Точность: 0.8348\n",
      "Эпоха: 2/20. Потери: 0.3954.     Точность: 0.8543\n",
      "Эпоха: 3/20. Потери: 0.3477.     Точность: 0.8714\n",
      "Эпоха: 4/20. Потери: 0.3331.     Точность: 0.8782\n",
      "Эпоха: 5/20. Потери: 0.3265.     Точность: 0.8832\n",
      "Эпоха: 6/20. Потери: 0.3123.     Точность: 0.8867\n",
      "Эпоха: 7/20. Потери: 0.3247.     Точность: 0.8809\n",
      "Эпоха: 8/20. Потери: 0.3263.     Точность: 0.8844\n",
      "Эпоха: 9/20. Потери: 0.3001.     Точность: 0.8911\n",
      "Эпоха: 10/20. Потери: 0.3143.     Точность: 0.8839\n",
      "Эпоха: 11/20. Потери: 0.3148.     Точность: 0.8902\n",
      "Эпоха: 12/20. Потери: 0.3055.     Точность: 0.8931\n",
      "Эпоха: 13/20. Потери: 0.3168.     Точность: 0.8896\n",
      "Эпоха: 14/20. Потери: 0.3204.     Точность: 0.8920\n",
      "Эпоха: 15/20. Потери: 0.3199.     Точность: 0.8891\n",
      "Эпоха: 16/20. Потери: 0.3278.     Точность: 0.8929\n",
      "Эпоха: 17/20. Потери: 0.3053.     Точность: 0.8993\n",
      "Эпоха: 18/20. Потери: 0.3227.     Точность: 0.8941\n",
      "Эпоха: 19/20. Потери: 0.3443.     Точность: 0.8926\n",
      "Эпоха: 20/20. Потери: 0.3436.     Точность: 0.8943\n"
     ]
    }
   ],
   "source": [
    "loss = nn.CrossEntropyLoss()\n",
    "optimizer = optim.Adam(model.parameters(), lr=0.002)\n",
    "epochs = 20\n",
    "\n",
    "for epoch in range(epochs):\n",
    "    model.train()\n",
    "    for fashion_images, fashion_labels in trainloader:\n",
    "        fashion_images, fashion_labels = fashion_images.to(device), fashion_labels.to(device)\n",
    "\n",
    "        optimizer.zero_grad()\n",
    "        output = model(fashion_images)\n",
    "        l = loss(output, fashion_labels)\n",
    "        l.backward()\n",
    "        optimizer.step()\n",
    "\n",
    "    test_loss = 0\n",
    "    accuracy = 0\n",
    "    with torch.no_grad():\n",
    "        model.eval()\n",
    "\n",
    "        for fashion_images, fashion_labels in testloader:\n",
    "            fashion_images, fashion_labels = fashion_images.to(device), fashion_labels.to(device)\n",
    "            test_guess = model(fashion_images)\n",
    "            test_loss += loss(test_guess, fashion_labels)\n",
    "\n",
    "            prob = torch.exp(test_guess)\n",
    "            top_probs, top_classes = prob.topk(1, dim=1)\n",
    "            equals = fashion_labels == top_classes.view(fashion_labels.shape)\n",
    "            accuracy += torch.mean(equals.type(torch.FloatTensor))\n",
    "\n",
    "    print(f'Эпоха: {epoch + 1}/{epochs}. Потери: {test_loss / len(testloader):.4f}. \\\n",
    "    Точность: {accuracy / len(testloader):.4f}')"
   ]
  },
  {
   "cell_type": "code",
   "execution_count": null,
   "metadata": {},
   "outputs": [],
   "source": []
  }
 ],
 "metadata": {
  "kernelspec": {
   "display_name": "Python 3",
   "language": "python",
   "name": "python3"
  },
  "language_info": {
   "codemirror_mode": {
    "name": "ipython",
    "version": 3
   },
   "file_extension": ".py",
   "mimetype": "text/x-python",
   "name": "python",
   "nbconvert_exporter": "python",
   "pygments_lexer": "ipython3",
   "version": "3.7.4"
  }
 },
 "nbformat": 4,
 "nbformat_minor": 2
}
