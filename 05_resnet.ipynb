{
 "cells": [
  {
   "cell_type": "code",
   "execution_count": 1,
   "metadata": {},
   "outputs": [],
   "source": [
    "# Yernar Shambayev, DL-2\n",
    "\n",
    "import torch\n",
    "import torch.nn as nn\n",
    "import torch.optim as optim\n",
    "from torchvision import datasets, models, transforms\n",
    "from torchvision.models import resnet18, vgg16\n",
    "import os, time"
   ]
  },
  {
   "cell_type": "code",
   "execution_count": 2,
   "metadata": {},
   "outputs": [],
   "source": [
    "# 3.Добавьте аугментацию данных\n",
    "data_transforms = {\n",
    "    'train': transforms.Compose([\n",
    "        transforms.RandomResizedCrop(224),\n",
    "        transforms.RandomHorizontalFlip(),\n",
    "        transforms.ToTensor(),\n",
    "        transforms.Normalize([0.485, 0.456, 0.406], [0.229, 0.224, 0.225])\n",
    "    ]),\n",
    "    'val': transforms.Compose([\n",
    "        transforms.Resize(256),\n",
    "        transforms.CenterCrop(224),\n",
    "        transforms.ToTensor(),\n",
    "        transforms.Normalize([0.485, 0.456, 0.406], [0.229, 0.224, 0.225])\n",
    "    ]),\n",
    "}"
   ]
  },
  {
   "cell_type": "code",
   "execution_count": 3,
   "metadata": {},
   "outputs": [
    {
     "name": "stdout",
     "output_type": "stream",
     "text": [
      "{'train': 244, 'val': 153}\n",
      "['ants', 'bees'] ['ants', 'bees']\n",
      "244 153\n"
     ]
    }
   ],
   "source": [
    "data_dir = 'hymenoptera_data'\n",
    "image_datasets = {x: datasets.ImageFolder(os.path.join(data_dir, x),\n",
    "                                          data_transforms[x])\n",
    "                  for x in ['train', 'val']}\n",
    "dataloaders = {x: torch.utils.data.DataLoader(image_datasets[x], batch_size=4,\n",
    "                                             shuffle=True, num_workers=4)\n",
    "              for x in ['train', 'val']}\n",
    "\n",
    "dataset_sizes = {x: len(image_datasets[x]) for x in ['train', 'val']}\n",
    "print(dataset_sizes)\n",
    "\n",
    "class_names = image_datasets['train'].classes\n",
    "class_names_val = image_datasets['val'].classes\n",
    "print(class_names, class_names_val)\n",
    "print(len(image_datasets['train']), len(image_datasets['val']))\n",
    "\n",
    "device = torch.device(\"cuda:0\" if torch.cuda.is_available() else \"cpu\")"
   ]
  },
  {
   "cell_type": "code",
   "execution_count": 4,
   "metadata": {},
   "outputs": [],
   "source": [
    "# Общая функция для моделей\n",
    "def training(name, model, criterion, optimizer):\n",
    "    start = time.time()\n",
    "    num_epochs = 3\n",
    "    print(name)\n",
    "\n",
    "    model = model.to(device)\n",
    "\n",
    "    for epoch in range(num_epochs):\n",
    "        print(f'Эпоха: {epoch+1} / {num_epochs}')\n",
    "\n",
    "        for mode in ['train', 'val']:\n",
    "            if mode == 'train':\n",
    "                model.train()\n",
    "            else:\n",
    "                model.eval()\n",
    "\n",
    "            running_loss = 0.0\n",
    "            running_corrects = 0\n",
    "\n",
    "            for inputs, labels in dataloaders[mode]:\n",
    "                inputs = inputs.to(device)\n",
    "                labels = labels.to(device)\n",
    "\n",
    "                optimizer.zero_grad()\n",
    "                with torch.set_grad_enabled(mode == 'train'):\n",
    "                    outputs = model(inputs)\n",
    "                    _, preds = torch.max(outputs, 1)\n",
    "                    loss = criterion(outputs, labels)\n",
    "\n",
    "                    if mode == 'train':\n",
    "                        loss.backward()\n",
    "                        optimizer.step()\n",
    "\n",
    "                running_loss += loss.item() * inputs.size(0)\n",
    "                running_corrects += torch.sum(preds == labels.data)\n",
    "\n",
    "            epoch_loss = running_loss / dataset_sizes[mode]\n",
    "            epoch_acc = running_corrects.double() / dataset_sizes[mode]\n",
    "\n",
    "            print(f'Режим: {mode}, потери: {epoch_loss:.4f}, точность: {epoch_acc:.4f}')\n",
    "\n",
    "    time_elapsed = time.time() - start\n",
    "    print(f'Прошло: {time_elapsed // 60:.0f} мин {time_elapsed % 60:.0f} сек')\n",
    "    print('')"
   ]
  },
  {
   "cell_type": "code",
   "execution_count": 5,
   "metadata": {},
   "outputs": [
    {
     "name": "stdout",
     "output_type": "stream",
     "text": [
      "resnet18 без FineTuning\n",
      "Эпоха: 1 / 3\n",
      "Режим: train, потери: 1.7193, точность: 0.4959\n",
      "Режим: val, потери: 0.9619, точность: 0.5752\n",
      "Эпоха: 2 / 3\n",
      "Режим: train, потери: 0.7339, точность: 0.6393\n",
      "Режим: val, потери: 0.7154, точность: 0.5556\n",
      "Эпоха: 3 / 3\n",
      "Режим: train, потери: 0.7214, точность: 0.6025\n",
      "Режим: val, потери: 0.6720, точность: 0.6601\n",
      "Прошло: 0 мин 12 сек\n",
      "\n",
      "vgg16 без FineTuning\n",
      "Эпоха: 1 / 3\n",
      "Режим: train, потери: 3.5965, точность: 0.4221\n",
      "Режим: val, потери: 1.1276, точность: 0.4575\n",
      "Эпоха: 2 / 3\n",
      "Режим: train, потери: 1.2453, точность: 0.5041\n",
      "Режим: val, потери: 0.8698, точность: 0.5425\n",
      "Эпоха: 3 / 3\n",
      "Режим: train, потери: 0.8379, точность: 0.5164\n",
      "Режим: val, потери: 0.8271, точность: 0.4575\n",
      "Прошло: 0 мин 45 сек\n",
      "\n",
      "resnet18 с FineTuning\n",
      "Эпоха: 1 / 3\n",
      "Режим: train, потери: 1.7307, точность: 0.6393\n",
      "Режим: val, потери: 0.4804, точность: 0.8954\n",
      "Эпоха: 2 / 3\n",
      "Режим: train, потери: 0.9449, точность: 0.7664\n",
      "Режим: val, потери: 1.0811, точность: 0.6732\n",
      "Эпоха: 3 / 3\n",
      "Режим: train, потери: 0.7251, точность: 0.7418\n",
      "Режим: val, потери: 0.3632, точность: 0.8627\n",
      "Прошло: 0 мин 9 сек\n",
      "\n",
      "vgg16 с FineTuning\n",
      "Эпоха: 1 / 3\n",
      "Режим: train, потери: 3.0738, точность: 0.4672\n",
      "Режим: val, потери: 1.4698, точность: 0.5425\n",
      "Эпоха: 2 / 3\n",
      "Режим: train, потери: 1.0733, точность: 0.5492\n",
      "Режим: val, потери: 1.7808, точность: 0.4771\n",
      "Эпоха: 3 / 3\n",
      "Режим: train, потери: 0.9232, точность: 0.5000\n",
      "Режим: val, потери: 0.6778, точность: 0.6078\n",
      "Прошло: 0 мин 46 сек\n",
      "\n"
     ]
    }
   ],
   "source": [
    "# 1. Обучите на нем модели ResNet 18 и VGG 16 с нуля (5-10 эпох)\n",
    "model = models.resnet18(pretrained=False)\n",
    "criterion = nn.CrossEntropyLoss()\n",
    "optimizer = optim.SGD(model.parameters(), lr=0.001, momentum=0.9)\n",
    "training('resnet18 без FineTuning', model, criterion, optimizer)\n",
    "\n",
    "model = models.vgg16(pretrained=False)\n",
    "criterion = nn.CrossEntropyLoss()\n",
    "optimizer = optim.SGD(model.parameters(), lr=0.001, momentum=0.9)\n",
    "training('vgg16 без FineTuning', model, criterion, optimizer)\n",
    "\n",
    "# 2. Обучите на нем модели ResNet 18 и VGG 16 с использованием FineTuning (5-10 эпох)\n",
    "model = models.resnet18(pretrained=True)\n",
    "criterion = nn.CrossEntropyLoss()\n",
    "optimizer = optim.SGD(model.parameters(), lr=0.001, momentum=0.9)\n",
    "training('resnet18 с FineTuning', model, criterion, optimizer)\n",
    "\n",
    "model = models.vgg16(pretrained=True)\n",
    "criterion = nn.CrossEntropyLoss()\n",
    "optimizer = optim.SGD(model.parameters(), lr=0.001, momentum=0.9)\n",
    "training('vgg16 с FineTuning', model, criterion, optimizer)"
   ]
  },
  {
   "cell_type": "code",
   "execution_count": null,
   "metadata": {},
   "outputs": [],
   "source": [
    "# Вывод: FineTuning улучшил точность "
   ]
  }
 ],
 "metadata": {
  "kernelspec": {
   "display_name": "Python 3",
   "language": "python",
   "name": "python3"
  },
  "language_info": {
   "codemirror_mode": {
    "name": "ipython",
    "version": 3
   },
   "file_extension": ".py",
   "mimetype": "text/x-python",
   "name": "python",
   "nbconvert_exporter": "python",
   "pygments_lexer": "ipython3",
   "version": "3.7.4"
  }
 },
 "nbformat": 4,
 "nbformat_minor": 2
}
