{
 "cells": [
  {
   "cell_type": "code",
   "execution_count": 1,
   "metadata": {},
   "outputs": [],
   "source": [
    "# Yernar Shambayev, DL-2\n",
    "# Обучите нейронную сеть решать шифр цезаря.\n",
    "# Что надо сделать:\n",
    "# 1.Написать алгоритм шифра цезаря для генерации выборки (сдвиг на К каждой буквы.\n",
    "# Например, при сдвиге на 2 буква “А” переходит в букву “В” и тп)\n",
    "# 2.Сделать нейронную сеть\n",
    "# 3.Обучить ее (вход - зашифрованная фраза, выход - дешифрованная фраза)\n",
    "# 4.Проверить качество\n",
    "\n",
    "import torch\n",
    "import pandas as pd\n",
    "from sklearn.model_selection import train_test_split\n",
    "import time"
   ]
  },
  {
   "cell_type": "code",
   "execution_count": 2,
   "metadata": {},
   "outputs": [],
   "source": [
    "# Шифр Цезаря\n",
    "def caesar(input, K):\n",
    "    output = ''\n",
    "    for c in input.lower():\n",
    "        if c.isalpha():\n",
    "            new_num = ord(c) + K\n",
    "            if new_num > ord('z'):\n",
    "                new_num -= 26\n",
    "            output += chr(new_num)\n",
    "        else:\n",
    "            output += c\n",
    "    return output"
   ]
  },
  {
   "cell_type": "code",
   "execution_count": 3,
   "metadata": {},
   "outputs": [
    {
     "data": {
      "text/html": [
       "<div>\n",
       "<style scoped>\n",
       "    .dataframe tbody tr th:only-of-type {\n",
       "        vertical-align: middle;\n",
       "    }\n",
       "\n",
       "    .dataframe tbody tr th {\n",
       "        vertical-align: top;\n",
       "    }\n",
       "\n",
       "    .dataframe thead th {\n",
       "        text-align: right;\n",
       "    }\n",
       "</style>\n",
       "<table border=\"1\" class=\"dataframe\">\n",
       "  <thead>\n",
       "    <tr style=\"text-align: right;\">\n",
       "      <th></th>\n",
       "      <th>Unnamed: 0</th>\n",
       "      <th>normalized_text</th>\n",
       "      <th>caesar_txt</th>\n",
       "    </tr>\n",
       "  </thead>\n",
       "  <tbody>\n",
       "    <tr>\n",
       "      <td>0</td>\n",
       "      <td>0</td>\n",
       "      <td>maggie look whats that</td>\n",
       "      <td>ociikg nqqm yjcvu vjcv</td>\n",
       "    </tr>\n",
       "    <tr>\n",
       "      <td>1</td>\n",
       "      <td>1</td>\n",
       "      <td>lee-mur lee-mur</td>\n",
       "      <td>ngg-owt ngg-owt</td>\n",
       "    </tr>\n",
       "    <tr>\n",
       "      <td>2</td>\n",
       "      <td>2</td>\n",
       "      <td>zee-boo zee-boo</td>\n",
       "      <td>bgg-dqq bgg-dqq</td>\n",
       "    </tr>\n",
       "    <tr>\n",
       "      <td>3</td>\n",
       "      <td>3</td>\n",
       "      <td>im trying to teach maggie that nature doesnt e...</td>\n",
       "      <td>ko vtakpi vq vgcej ociikg vjcv pcvwtg fqgupv g...</td>\n",
       "    </tr>\n",
       "    <tr>\n",
       "      <td>4</td>\n",
       "      <td>4</td>\n",
       "      <td>its like an ox only it has a hump and a dewlap...</td>\n",
       "      <td>kvu nkmg cp qz qpna kv jcu c jwor cpf c fgyncr...</td>\n",
       "    </tr>\n",
       "  </tbody>\n",
       "</table>\n",
       "</div>"
      ],
      "text/plain": [
       "   Unnamed: 0                                    normalized_text  \\\n",
       "0           0                             maggie look whats that   \n",
       "1           1                                    lee-mur lee-mur   \n",
       "2           2                                    zee-boo zee-boo   \n",
       "3           3  im trying to teach maggie that nature doesnt e...   \n",
       "4           4  its like an ox only it has a hump and a dewlap...   \n",
       "\n",
       "                                          caesar_txt  \n",
       "0                             ociikg nqqm yjcvu vjcv  \n",
       "1                                    ngg-owt ngg-owt  \n",
       "2                                    bgg-dqq bgg-dqq  \n",
       "3  ko vtakpi vq vgcej ociikg vjcv pcvwtg fqgupv g...  \n",
       "4  kvu nkmg cp qz qpna kv jcu c jwor cpf c fgyncr...  "
      ]
     },
     "execution_count": 3,
     "metadata": {},
     "output_type": "execute_result"
    }
   ],
   "source": [
    "# Берем базу фраз из Симпсонов\n",
    "df = pd.read_csv('data.csv')\n",
    "# Удаляем строки с пустым значением normalized_text\n",
    "df = df.dropna(subset=['normalized_text'])\n",
    "# Оставляем только normalized_text и столбец с зашифрованным значением\n",
    "df['caesar_txt'] = df['normalized_text'].apply(lambda x: caesar(str(x), 2))\n",
    "df = df.drop(['id', 'episode_id', 'number', 'raw_text', 'timestamp_in_ms', 'speaking_line', 'character_id', 'location_id',\n",
    "              'raw_character_text', 'raw_location_text', 'spoken_words', 'word_count'], axis = 1)\n",
    "df.head()"
   ]
  },
  {
   "cell_type": "code",
   "execution_count": 4,
   "metadata": {},
   "outputs": [],
   "source": [
    "train, test = train_test_split(df, test_size=0.2)\n",
    "train_list = train['normalized_text'].tolist()\n",
    "train_caesar = train['caesar_txt'].tolist()\n",
    "test_list = test['normalized_text'].tolist()\n",
    "test_caesar = test['caesar_txt'].tolist()"
   ]
  },
  {
   "cell_type": "code",
   "execution_count": 5,
   "metadata": {},
   "outputs": [],
   "source": [
    "# Переводим в тензоры Torch\n",
    "\n",
    "train_text = [[c for c in ph] for ph in train_list if type(ph) is str]\n",
    "train_label = [[c for c in ph] for ph in train_caesar if type(ph) is str]\n",
    "test_text = [[c for c in ph] for ph in test_list if type(ph) is str]\n",
    "test_label = [[c for c in ph] for ph in test_caesar if type(ph) is str]\n",
    "\n",
    "CHARS = set('abcdefghijklmnopqrstuvwxyz ')\n",
    "INDEX_TO_CHAR = ['none'] + [w for w in CHARS]\n",
    "CHAR_TO_INDEX = {w: i for i, w in enumerate(INDEX_TO_CHAR)}\n",
    "MAX_LEN = 50\n",
    "\n",
    "def convert_to_torch(text):\n",
    "    output = torch.zeros((len(text), MAX_LEN), dtype=int)\n",
    "    for i in range(len(text)):\n",
    "        for j, w in enumerate(text[i]):\n",
    "            if j >= MAX_LEN:\n",
    "                break\n",
    "            output[i, j] = CHAR_TO_INDEX.get(w, CHAR_TO_INDEX['none'])\n",
    "\n",
    "    return output\n",
    "\n",
    "X = convert_to_torch(train_text)\n",
    "Y = convert_to_torch(train_label)\n",
    "X_test = convert_to_torch(test_text)\n",
    "Y_test = convert_to_torch(test_label)"
   ]
  },
  {
   "cell_type": "code",
   "execution_count": 6,
   "metadata": {},
   "outputs": [],
   "source": [
    "class RNN_Network(torch.nn.Module):\n",
    "    def __init__(self):\n",
    "        super(RNN_Network, self).__init__()\n",
    "        self.embeddings = torch.nn.Embedding(len(INDEX_TO_CHAR), 28)\n",
    "        self.rnn = torch.nn.RNN(28, 128, batch_first=True)\n",
    "        self.linear = torch.nn.Linear(128, 28)\n",
    "\n",
    "    def forward(self, sentences, state=None):\n",
    "        embds = self.embeddings(sentences)\n",
    "        out, new_state = self.rnn(embds, state)\n",
    "        result = self.linear(out)\n",
    "        return result, new_state\n",
    "\n",
    "model = RNN_Network()\n",
    "criterion = torch.nn.CrossEntropyLoss()\n",
    "optimizer = torch.optim.SGD(model.parameters(), lr=0.01)\n",
    "epochs = 5"
   ]
  },
  {
   "cell_type": "code",
   "execution_count": 7,
   "metadata": {},
   "outputs": [
    {
     "name": "stdout",
     "output_type": "stream",
     "text": [
      "Epoch 1. Time: 2.825, Train loss: 2.372\n",
      "Epoch 2. Time: 2.645, Train loss: 1.648\n",
      "Epoch 3. Time: 2.851, Train loss: 1.314\n",
      "Epoch 4. Time: 3.138, Train loss: 1.067\n",
      "Epoch 5. Time: 2.000, Train loss: 0.879\n"
     ]
    }
   ],
   "source": [
    "# Обучение\n",
    "for epoch in range(epochs):\n",
    "    start = time.time()\n",
    "    train_loss = 0.\n",
    "    train_passed = 0\n",
    "\n",
    "    for i in range(int(len(X) / 100)):\n",
    "        X_batch = X[i * 100:(i + 1) * 100]\n",
    "        Y_batch = Y[i * 100:(i + 1) * 100].flatten()\n",
    "\n",
    "        optimizer.zero_grad()\n",
    "        answers, _ = model.forward(X_batch)\n",
    "        answers = answers.view(-1, len(INDEX_TO_CHAR))\n",
    "        loss = criterion(answers, Y_batch)\n",
    "        train_loss += loss.item()\n",
    "\n",
    "        loss.backward()\n",
    "        optimizer.step()\n",
    "        train_passed += 1\n",
    "\n",
    "    print(f\"Epoch {epoch + 1}. Time: {time.time() - start:.3f}, Train loss: {train_loss / train_passed:.3f}\")"
   ]
  },
  {
   "cell_type": "code",
   "execution_count": 8,
   "metadata": {},
   "outputs": [
    {
     "name": "stdout",
     "output_type": "stream",
     "text": [
      "Loss: 0.0004\n"
     ]
    }
   ],
   "source": [
    "# Проверяем качество\n",
    "test_loss = 0\n",
    "with torch.no_grad():\n",
    "    model.eval()\n",
    "\n",
    "    answers, _ = model.forward(X_test)\n",
    "    answers = answers.view(-1, len(INDEX_TO_CHAR))\n",
    "    loss = criterion(answers, Y_test.flatten())\n",
    "    test_loss += loss.item()\n",
    "    print(f'Loss: {test_loss / len(X_test):.4f}')"
   ]
  },
  {
   "cell_type": "code",
   "execution_count": null,
   "metadata": {},
   "outputs": [],
   "source": []
  }
 ],
 "metadata": {
  "kernelspec": {
   "display_name": "Python 3",
   "language": "python",
   "name": "python3"
  },
  "language_info": {
   "codemirror_mode": {
    "name": "ipython",
    "version": 3
   },
   "file_extension": ".py",
   "mimetype": "text/x-python",
   "name": "python",
   "nbconvert_exporter": "python",
   "pygments_lexer": "ipython3",
   "version": "3.7.4"
  }
 },
 "nbformat": 4,
 "nbformat_minor": 2
}
