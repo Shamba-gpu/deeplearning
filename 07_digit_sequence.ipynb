{
 "cells": [
  {
   "cell_type": "code",
   "execution_count": 1,
   "metadata": {},
   "outputs": [],
   "source": [
    "# Yernar Shambayev, DL-2\n",
    "# Сгенерировать последовательности, которые бы состояли из цифр (от 0 до 9)\n",
    "# и задавались следующим образом:\n",
    "# x - последовательность цифр\n",
    "# y1 = x1, y(i) = x(i) + x(1). Если y(i) >= 10, то y(i) = y(i) - 10\n",
    "#\n",
    "# Задача:\n",
    "# научить модель предсказывать y(i) по x(i)\n",
    "\n",
    "import torch\n",
    "import torch.nn as nn\n",
    "from random import randint"
   ]
  },
  {
   "cell_type": "code",
   "execution_count": 2,
   "metadata": {},
   "outputs": [],
   "source": [
    "num_sequences = 10\n",
    "num_elements = 50\n",
    "\n",
    "def compute_y(x, shift):\n",
    "    y = x + shift\n",
    "    if y >= 10:\n",
    "        y -= 10\n",
    "    return y\n",
    "\n",
    "def generate_sequences():\n",
    "    seq_in = []\n",
    "    seq_out = []\n",
    "\n",
    "    for i in range(num_sequences):\n",
    "        for j in range(num_elements):\n",
    "            if j == 0:\n",
    "                x1 = y1 = randint(1, 9)\n",
    "\n",
    "                x_ = [[]]\n",
    "                y_ = []\n",
    "                x_[0].append(x1)\n",
    "                y_.append(y1)\n",
    "            else:\n",
    "                x = randint(0, 9)\n",
    "                y = compute_y(x, x1)\n",
    "\n",
    "                x_[0].append(x)\n",
    "                y_.append(y)\n",
    "\n",
    "        seq_in.append(x_)\n",
    "        seq_out.append(y_)\n",
    "\n",
    "    return seq_in, seq_out\n",
    "\n",
    "X_train, Y_train = generate_sequences()"
   ]
  },
  {
   "cell_type": "code",
   "execution_count": 3,
   "metadata": {},
   "outputs": [
    {
     "name": "stdout",
     "output_type": "stream",
     "text": [
      "[[[1, 3, 5, 8, 5, 6, 0, 5, 1, 6, 9, 8, 7, 9, 2, 2, 1, 0, 7, 0, 5, 1, 3, 5, 7, 6, 8, 4, 4, 9, 1, 6, 2, 0, 6, 1, 3, 3, 3, 0, 9, 6, 7, 8, 8, 1, 6, 4, 3, 1]], [[4, 3, 9, 4, 1, 2, 9, 9, 6, 2, 2, 7, 7, 5, 4, 3, 5, 7, 1, 6, 0, 3, 4, 3, 9, 2, 8, 4, 5, 8, 0, 4, 2, 8, 4, 6, 2, 4, 2, 1, 9, 5, 8, 6, 5, 2, 3, 0, 6, 9]]]\n",
      "[[1, 4, 6, 9, 6, 7, 1, 6, 2, 7, 0, 9, 8, 0, 3, 3, 2, 1, 8, 1, 6, 2, 4, 6, 8, 7, 9, 5, 5, 0, 2, 7, 3, 1, 7, 2, 4, 4, 4, 1, 0, 7, 8, 9, 9, 2, 7, 5, 4, 2], [4, 7, 3, 8, 5, 6, 3, 3, 0, 6, 6, 1, 1, 9, 8, 7, 9, 1, 5, 0, 4, 7, 8, 7, 3, 6, 2, 8, 9, 2, 4, 8, 6, 2, 8, 0, 6, 8, 6, 5, 3, 9, 2, 0, 9, 6, 7, 4, 0, 3]]\n"
     ]
    }
   ],
   "source": [
    "print(X_train[0:2])\n",
    "print(Y_train[0:2])"
   ]
  },
  {
   "cell_type": "code",
   "execution_count": 4,
   "metadata": {},
   "outputs": [],
   "source": [
    "num_layers = 1  \n",
    "embedding_size = 10  \n",
    "num_classes = 10\n",
    "input_size = 10\n",
    "batch_size = 1  \n",
    "sequence_length = num_elements  \n",
    "hidden_size = 10  \n",
    "\n",
    "from torch.autograd import Variable\n",
    "\n",
    "class RNN_Model(nn.Module):\n",
    "    def __init__(self):\n",
    "        super(RNN_Model, self).__init__()\n",
    "        self.num_layers = num_layers\n",
    "        self.hidden_size = hidden_size\n",
    "        self.embedding = nn.Embedding(input_size, embedding_size)\n",
    "        self.rnn = nn.RNN(input_size=embedding_size,\n",
    "                          hidden_size=hidden_size, batch_first=True)\n",
    "        self.fc = nn.Linear(hidden_size, num_classes)\n",
    "\n",
    "    def forward(self, x):\n",
    "        h_0 = Variable(torch.zeros(\n",
    "            self.num_layers, x.size(0), self.hidden_size))\n",
    "\n",
    "        emb = self.embedding(x)\n",
    "        emb = emb.view(batch_size, sequence_length, -1)\n",
    "\n",
    "        out, _ = self.rnn(emb, h_0)\n",
    "        return self.fc(out.view(-1, num_classes))"
   ]
  },
  {
   "cell_type": "code",
   "execution_count": 5,
   "metadata": {},
   "outputs": [
    {
     "name": "stdout",
     "output_type": "stream",
     "text": [
      "RNN_Model(\n",
      "  (embedding): Embedding(10, 10)\n",
      "  (rnn): RNN(10, 10, batch_first=True)\n",
      "  (fc): Linear(in_features=10, out_features=10, bias=True)\n",
      ")\n"
     ]
    }
   ],
   "source": [
    "model = RNN_Model()\n",
    "print(model)\n",
    "criterion = torch.nn.CrossEntropyLoss()\n",
    "optimizer = torch.optim.Adam(model.parameters(), lr=0.1)"
   ]
  },
  {
   "cell_type": "code",
   "execution_count": 6,
   "metadata": {},
   "outputs": [
    {
     "name": "stdout",
     "output_type": "stream",
     "text": [
      "['0', '1', '2', '3', '4', '5', '6', '7', '8', '9']\n"
     ]
    }
   ],
   "source": [
    "str_sequence = [str(i) for i in range(10)]\n",
    "print(str_sequence)"
   ]
  },
  {
   "cell_type": "code",
   "execution_count": 7,
   "metadata": {},
   "outputs": [
    {
     "name": "stdout",
     "output_type": "stream",
     "text": [
      "1 sequence\n",
      "Эпоха: 1, потери: 2.326\n",
      "Эпоха: 11, потери: 0.103\n",
      "Эпоха: 21, потери: 0.056\n",
      "Эпоха: 31, потери: 0.025\n",
      "Эпоха: 41, потери: 0.009\n",
      "Входная последовательность:   13585605169879221070513576844916206133309678816431\n",
      "Выходная последовательность:  14696716270980332181624687955027317244410789927542\n",
      "Предсказание:                 14696716270980332181624687955027317244410789927542\n",
      "\n",
      "2 sequence\n",
      "Эпоха: 1, потери: 12.090\n",
      "Эпоха: 11, потери: 1.081\n",
      "Эпоха: 21, потери: 0.166\n",
      "Эпоха: 31, потери: 0.078\n",
      "Эпоха: 41, потери: 0.051\n",
      "Входная последовательность:   43941299622775435716034392845804284624219586523069\n",
      "Выходная последовательность:  47385633066119879150478736289248628068653920967403\n",
      "Предсказание:                 47385633066119879150478736289248628068653920967403\n",
      "\n",
      "3 sequence\n",
      "Эпоха: 1, потери: 13.354\n",
      "Эпоха: 11, потери: 2.183\n",
      "Эпоха: 21, потери: 0.394\n",
      "Эпоха: 31, потери: 0.213\n",
      "Эпоха: 41, потери: 0.092\n",
      "Входная последовательность:   64270756114629051536252258633661006749686632761497\n",
      "Выходная последовательность:  60836312770285617192818814299227662305242298327053\n",
      "Предсказание:                 20836312770285617192818814299227662305242298327053\n",
      "\n",
      "4 sequence\n",
      "Эпоха: 1, потери: 12.787\n",
      "Эпоха: 11, потери: 1.893\n",
      "Эпоха: 21, потери: 0.529\n",
      "Эпоха: 31, потери: 0.209\n",
      "Эпоха: 41, потери: 0.078\n",
      "Входная последовательность:   56816574053113520332278214919624043901127146820318\n",
      "Выходная последовательность:  51361029508668075887723769464179598456672691375863\n",
      "Предсказание:                 01361029508668075887723769464179598456672691375863\n",
      "\n",
      "5 sequence\n",
      "Эпоха: 1, потери: 0.055\n",
      "Эпоха: 11, потери: 0.048\n",
      "Эпоха: 21, потери: 0.046\n",
      "Эпоха: 31, потери: 0.045\n",
      "Эпоха: 41, потери: 0.044\n",
      "Входная последовательность:   58592125814001201201432033207009893843460761943403\n",
      "Выходная последовательность:  53047670369556756756987588752554348398915216498958\n",
      "Предсказание:                 03047670369556756756987588752554348398915216498958\n",
      "\n",
      "6 sequence\n",
      "Эпоха: 1, потери: 14.231\n",
      "Эпоха: 11, потери: 1.821\n",
      "Эпоха: 21, потери: 0.254\n",
      "Эпоха: 31, потери: 0.140\n",
      "Эпоха: 41, потери: 0.083\n",
      "Входная последовательность:   73616944829374564221942771149739452876794138876279\n",
      "Выходная последовательность:  70383611596041231998619448816406129543461805543946\n",
      "Предсказание:                 40383611596041231998619448816406129543461805543946\n",
      "\n",
      "7 sequence\n",
      "Эпоха: 1, потери: 17.083\n",
      "Эпоха: 11, потери: 4.059\n",
      "Эпоха: 21, потери: 0.806\n",
      "Эпоха: 31, потери: 0.145\n",
      "Эпоха: 41, потери: 0.047\n",
      "Входная последовательность:   51652568357541841629853611172696228757297074165260\n",
      "Выходная последовательность:  56107013802096396174308166627141773202742529610715\n",
      "Предсказание:                 06107013802096396174308166627141773202742529610715\n",
      "\n",
      "8 sequence\n",
      "Эпоха: 1, потери: 19.131\n",
      "Эпоха: 11, потери: 5.917\n",
      "Эпоха: 21, потери: 1.144\n",
      "Эпоха: 31, потери: 0.514\n",
      "Эпоха: 41, потери: 0.371\n",
      "Входная последовательность:   18050197764236351470034696994168958839667481672211\n",
      "Выходная последовательность:  19161208875347462581145707005279069940778592783322\n",
      "Предсказание:                 29161208875347462581145707005279069940778592783322\n",
      "\n",
      "9 sequence\n",
      "Эпоха: 1, потери: 13.077\n",
      "Эпоха: 11, потери: 2.618\n",
      "Эпоха: 21, потери: 0.129\n",
      "Эпоха: 31, потери: 0.035\n",
      "Эпоха: 41, потери: 0.021\n",
      "Входная последовательность:   59526677523323311315514525530092295644120715090960\n",
      "Выходная последовательность:  54071122078878866860069070085547740199675260545415\n",
      "Предсказание:                 54071122078878866860069070085547740199675260545415\n",
      "\n",
      "10 sequence\n",
      "Эпоха: 1, потери: 18.207\n",
      "Эпоха: 11, потери: 3.563\n",
      "Эпоха: 21, потери: 0.996\n",
      "Эпоха: 31, потери: 0.422\n",
      "Эпоха: 41, потери: 0.253\n",
      "Входная последовательность:   65337876599453992748912608528989060601567511631595\n",
      "Выходная последовательность:  61993432155019558304578264184545626267123177297151\n",
      "Предсказание:                 21993432155019558304548264184545626264123144294151\n",
      "\n"
     ]
    }
   ],
   "source": [
    "# Обучение и проверка\n",
    "epochs = 50\n",
    "for i in range(num_sequences):\n",
    "    print(f'{i+1} sequence')\n",
    "    inputs = Variable(torch.LongTensor(X_train[i]))\n",
    "    labels = Variable(torch.LongTensor(Y_train[i]))\n",
    "\n",
    "    for epoch in range(epochs):\n",
    "        outputs = model(inputs)\n",
    "        optimizer.zero_grad()\n",
    "\n",
    "        loss = criterion(outputs, labels)\n",
    "        loss.backward()\n",
    "        optimizer.step()\n",
    "\n",
    "        if (epoch + 1) % 10 == 1:\n",
    "            print(f\"Эпоха: {epoch + 1}, потери: {loss.item():1.3f}\")\n",
    "\n",
    "        if epoch == epochs - 1: # проверка в конце эпох\n",
    "            _, idx = outputs.max(1)\n",
    "            idx = idx.data.numpy()\n",
    "            result_str = [str_sequence[c] for c in idx.squeeze()]\n",
    "            orig_str  = [str_sequence[c] for c in inputs[0]]\n",
    "            label_str  = [str_sequence[c] for c in Y_train[i]]\n",
    "\n",
    "            print(\"Входная последовательность:  \", ''.join(orig_str))\n",
    "            print(\"Выходная последовательность: \", ''.join(label_str))\n",
    "            print(\"Предсказание:                \", ''.join(result_str))\n",
    "            print(\"\")"
   ]
  },
  {
   "cell_type": "code",
   "execution_count": null,
   "metadata": {},
   "outputs": [],
   "source": []
  }
 ],
 "metadata": {
  "kernelspec": {
   "display_name": "Python 3",
   "language": "python",
   "name": "python3"
  },
  "language_info": {
   "codemirror_mode": {
    "name": "ipython",
    "version": 3
   },
   "file_extension": ".py",
   "mimetype": "text/x-python",
   "name": "python",
   "nbconvert_exporter": "python",
   "pygments_lexer": "ipython3",
   "version": "3.7.4"
  }
 },
 "nbformat": 4,
 "nbformat_minor": 2
}
