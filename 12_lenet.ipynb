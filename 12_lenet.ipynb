{
 "cells": [
  {
   "cell_type": "code",
   "execution_count": 1,
   "metadata": {},
   "outputs": [],
   "source": [
    "# Yernar Shambayev, DL-2\n",
    "# 1. Возьмите MNIST, обучите на нем сетку (LeNet)\n",
    "# 2. Возьмите какую-нить картинку (из mnist'а)\n",
    "# 3. Обучите шум, который при добавлении к оригинальной картинке, заставит ее ошибаться в пользу\n",
    "# другого класса\n",
    "\n",
    "import numpy as np\n",
    "import torch\n",
    "from torchvision.datasets import mnist\n",
    "from torch.nn import CrossEntropyLoss\n",
    "from torch.nn import Module\n",
    "from torch.optim import SGD\n",
    "from torch import nn\n",
    "from torch.utils.data import DataLoader\n",
    "from torchvision.transforms import ToTensor\n",
    "import time"
   ]
  },
  {
   "cell_type": "code",
   "execution_count": 2,
   "metadata": {},
   "outputs": [],
   "source": [
    "class LeNet(Module):\n",
    "    def __init__(self):\n",
    "        super(LeNet, self).__init__()\n",
    "        self.conv1 = nn.Conv2d(1, 6, 5)\n",
    "        self.relu1 = nn.ReLU()\n",
    "        self.pool1 = nn.MaxPool2d(2)\n",
    "        self.conv2 = nn.Conv2d(6, 16, 5)\n",
    "        self.relu2 = nn.ReLU()\n",
    "        self.pool2 = nn.MaxPool2d(2)\n",
    "        self.fc1 = nn.Linear(256, 120)\n",
    "        self.relu3 = nn.ReLU()\n",
    "        self.fc2 = nn.Linear(120, 84)\n",
    "        self.relu4 = nn.ReLU()\n",
    "        self.fc3 = nn.Linear(84, 10)\n",
    "        self.relu5 = nn.ReLU()\n",
    "\n",
    "    def forward(self, x):\n",
    "        y = self.conv1(x)\n",
    "        y = self.relu1(y)\n",
    "        y = self.pool1(y)\n",
    "        y = self.conv2(y)\n",
    "        y = self.relu2(y)\n",
    "        y = self.pool2(y)\n",
    "        y = y.view(y.shape[0], -1)\n",
    "        y = self.fc1(y)\n",
    "        y = self.relu3(y)\n",
    "        y = self.fc2(y)\n",
    "        y = self.relu4(y)\n",
    "        y = self.fc3(y)\n",
    "        y = self.relu5(y)\n",
    "        return y"
   ]
  },
  {
   "cell_type": "code",
   "execution_count": 3,
   "metadata": {},
   "outputs": [],
   "source": [
    "batch_size = 256\n",
    "train_dataset = mnist.MNIST(root='.', train=True, download=False, transform=ToTensor())\n",
    "test_dataset = mnist.MNIST(root='.', train=False, download=False, transform=ToTensor())\n",
    "train_loader = DataLoader(train_dataset, batch_size=batch_size)\n",
    "test_loader = DataLoader(test_dataset, batch_size=batch_size)"
   ]
  },
  {
   "cell_type": "code",
   "execution_count": 4,
   "metadata": {},
   "outputs": [
    {
     "name": "stdout",
     "output_type": "stream",
     "text": [
      "Эпоха: 1, потери: 0.7606533169746399\n",
      "Точность: 0.71\n",
      "Эпоха: 2, потери: 0.26481035351753235\n",
      "Точность: 0.92\n",
      "Эпоха: 3, потери: 0.22913600504398346\n",
      "Точность: 0.94\n",
      "Эпоха: 4, потери: 0.20225371420383453\n",
      "Точность: 0.97\n",
      "Эпоха: 5, потери: 0.19416014850139618\n",
      "Точность: 0.97\n",
      "Эпоха: 6, потери: 0.18709047138690948\n",
      "Точность: 0.98\n",
      "Эпоха: 7, потери: 0.18521060049533844\n",
      "Точность: 0.98\n",
      "Эпоха: 8, потери: 0.18537764251232147\n",
      "Точность: 0.98\n",
      "Эпоха: 9, потери: 0.18634013831615448\n",
      "Точность: 0.98\n",
      "Эпоха: 10, потери: 0.1875421404838562\n",
      "Точность: 0.98\n",
      "Прошло: 131.78555274009705 сек\n"
     ]
    }
   ],
   "source": [
    "model = LeNet()\n",
    "optimizer = SGD(model.parameters(), lr=0.1)\n",
    "loss = CrossEntropyLoss()\n",
    "epochs = 10\n",
    "\n",
    "t1 = time.time()\n",
    "for epoch in range(epochs):\n",
    "    for train_x, train_label in train_loader:\n",
    "        optimizer.zero_grad()\n",
    "        predict_y = model(train_x.float())\n",
    "        l = loss(predict_y, train_label.long())\n",
    "        l.backward()\n",
    "        optimizer.step()\n",
    "    print(f'Эпоха: {epoch+1}, потери: {l}')\n",
    "\n",
    "    correct = 0\n",
    "    total = 0\n",
    "    for test_x, test_label in test_loader:\n",
    "        predict_y = model(test_x.float()).detach()\n",
    "        predict_ys = np.argmax(predict_y, axis=-1)\n",
    "        _ = predict_ys == test_label\n",
    "        correct += np.sum(_.numpy(), axis=-1)\n",
    "        total += _.shape[0]\n",
    "\n",
    "    print(f'Точность: {correct / total:.2f}')\n",
    "print(f'Прошло: {time.time() - t1} сек')"
   ]
  },
  {
   "cell_type": "code",
   "execution_count": 7,
   "metadata": {},
   "outputs": [
    {
     "data": {
      "image/png": "[encoded data removed]",
      "text/plain": [
       "<Figure size 432x288 with 1 Axes>"
      ]
     },
     "metadata": {
      "needs_background": "light"
     },
     "output_type": "display_data"
    }
   ],
   "source": [
    "# Сетку обучили, визуализируем произвольную картинку\n",
    "\n",
    "%matplotlib inline\n",
    "import matplotlib.pyplot as plt\n",
    "\n",
    "def visualize(idx):\n",
    "    model.eval()\n",
    "    image = test_dataset[idx][0].unsqueeze(0)\n",
    "    label = test_dataset[idx][1]\n",
    "    output = model(image)\n",
    "    pred = output.detach().max(1)[1]\n",
    "    plt.imshow(image[0][0],cmap='gray')\n",
    "    plt.title(f'Метка: {label}, предсказание: {pred.item()}')\n",
    "visualize(100)"
   ]
  },
  {
   "cell_type": "code",
   "execution_count": 8,
   "metadata": {},
   "outputs": [],
   "source": [
    "# Теперь добавляем шум и атакуем нейросеть\n",
    "\n",
    "def fgsm_attack(model, loss, images, labels, eps):\n",
    "    images.requires_grad = True\n",
    "\n",
    "    outputs = model(images.float())\n",
    "    l = loss(outputs, labels.long())\n",
    "    l.backward()\n",
    "\n",
    "    attack_images= images + eps * images.grad.sign()\n",
    "    attack_images = torch.clamp(attack_images, 0, 1)\n",
    "\n",
    "    return attack_images"
   ]
  },
  {
   "cell_type": "code",
   "execution_count": 10,
   "metadata": {},
   "outputs": [
    {
     "name": "stdout",
     "output_type": "stream",
     "text": [
      "Точность: 19.921875 %\n"
     ]
    }
   ],
   "source": [
    "correct = 0\n",
    "total = 0\n",
    "eps = 0.2\n",
    "\n",
    "for test_x, test_label in test_loader:\n",
    "    images = test_x\n",
    "    labels = test_label\n",
    "    attack_images = fgsm_attack(model, loss, images, labels, eps)\n",
    "\n",
    "    outputs = model(attack_images.float())\n",
    "    final_pred = outputs.max(1, keepdim=True)[1] # берем индекс с наибольшей вероятностью\n",
    "\n",
    "    total = len(final_pred)\n",
    "    for i in range(total):\n",
    "        if final_pred[i].item() == labels[i].item():\n",
    "            correct += 1\n",
    "\n",
    "    print(f'Точность: {100 * float(correct) / total} %')\n",
    "    break # только первый батч"
   ]
  },
  {
   "cell_type": "code",
   "execution_count": null,
   "metadata": {},
   "outputs": [],
   "source": [
    "# Точность резко упала при eps = 0.2"
   ]
  }
 ],
 "metadata": {
  "kernelspec": {
   "display_name": "Python 3",
   "language": "python",
   "name": "python3"
  },
  "language_info": {
   "codemirror_mode": {
    "name": "ipython",
    "version": 3
   },
   "file_extension": ".py",
   "mimetype": "text/x-python",
   "name": "python",
   "nbconvert_exporter": "python",
   "pygments_lexer": "ipython3",
   "version": "3.7.4"
  }
 },
 "nbformat": 4,
 "nbformat_minor": 2
}
